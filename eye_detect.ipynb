{
 "cells": [
  {
   "cell_type": "markdown",
   "metadata": {},
   "source": [
    "## 위치 측정을 위한 라벨링 툴 만들기 (2) 툴 만들기\n",
    "\n",
    "이제 OpenCV의 마우스 이벤트를 이용해서 라벨링 툴(labeling tool)을 만들어보겠습니다.\n",
    "\n",
    "아래 코드는 필요한 패키지를 불러옵니다. 주로 **cv2** 를 이용합니다. 이번에는 기존 라벨을 읽지 않고 새로 위치를 정하기 때문에 **img_path** 만 불러오면 됩니다. **flg_button** 은 마우스 이벤트가 발생할 때 사용할 불리언(boolean) 타입 전역변수입니다."
   ]
  },
  {
   "cell_type": "markdown",
   "metadata": {},
   "source": [
    "### keypoint_using_mouse.py\n",
    "---"
   ]
  },
  {
   "cell_type": "markdown",
   "metadata": {},
   "source": [
    "``` python\n",
    "import os\n",
    "from os.path import join\n",
    "from glob import glob\n",
    "import cv2\n",
    "import argparse\n",
    "import numpy as np\n",
    "import json\n",
    "from pprint import pprint\n",
    "\n",
    "args = argparse.ArgumentParser()\n",
    "\n",
    "# hyperparameters\n",
    "args.add_argument('img_path', type=str, nargs='?', default=None)\n",
    "\n",
    "config = args.parse_args()\n",
    "\n",
    "flg_button = False\n",
    "\n",
    "```"
   ]
  },
  {
   "cell_type": "markdown",
   "metadata": {},
   "source": [
    "사용할 함수를 만들겠습니다.\n",
    "\n",
    "해당 함수에서는 먼저 **`img_path`** 가 유효한지 체크합니다. **`img_path`** 로 디렉토리가 입력될 경우 해당 디렉토리 내의 첫 번째 이미지를 **`img_path`** 에 입력하고 경로를 반환합니다.\n",
    "\n",
    "이미지 간 이동할 **`move()`** 함수도 선언합니다."
   ]
  },
  {
   "cell_type": "markdown",
   "metadata": {},
   "source": [
    "``` python\n",
    "\n",
    "def check_dir():\n",
    "    if config.img_path is None \\\n",
    "        or len(config.img_path) == 0 \\\n",
    "        or config.img_path == '' \\\n",
    "        or os.path.isdir(config.img_path):\n",
    "        root = os.path.realpath('./')\n",
    "        if os.path.isdir(config.img_path):\n",
    "            root = os.path.realpath(config.img_path)\n",
    "        img_list = sorted(glob(join(root, '*.png')))\n",
    "        img_list.extend(sorted(glob(join(root, '*.jpg'))))\n",
    "        config.img_path = img_list[0]\n",
    "\n",
    "    img_dir = os.path.dirname(os.path.realpath(config.img_path))\n",
    "\n",
    "    return img_dir\n",
    "\n",
    "def move(pos, idx, img_list):\n",
    "    if pos == 1:\n",
    "        idx += 1\n",
    "        if idx == len(img_list):\n",
    "            idx = 0\n",
    "    elif pos == -1:\n",
    "        idx -= 1\n",
    "        if idx == -1:\n",
    "            idx = len(img_list) - 1\n",
    "    return idx\n",
    "\n",
    "```"
   ]
  },
  {
   "cell_type": "markdown",
   "metadata": {},
   "source": [
    "mouse callback 함수를 정의합니다. 전역변수인 **`gparam`** 에는 **`img`**와 **`point`** 정보를 저장합니다. 마우스 왼쪽 버튼이 눌러졌다 떨어질 때 **`gparam`** 의 **`point`** 에 **`x, y`** 를 리스트로 저장합니다."
   ]
  },
  {
   "cell_type": "markdown",
   "metadata": {},
   "source": [
    "``` python\n",
    "# Mouse callback function\n",
    "def select_point(event, x,y, flags, param):\n",
    "    global flg_button, gparam\n",
    "    img = gparam['img']\n",
    "\n",
    "    if event == cv2.EVENT_LBUTTONDOWN:\n",
    "        flg_button = True\n",
    "\n",
    "    if event == cv2.EVENT_LBUTTONUP and flg_button == True:\n",
    "        flg_button = False\n",
    "        print (f'({x}, {y}), size:{img.shape}')\n",
    "        gparam['point'] = [x,y]\n",
    "        \n",
    "```"
   ]
  },
  {
   "cell_type": "markdown",
   "metadata": {},
   "source": [
    "**`main`** 함수인 **`blend_view()`** 를 구현합시다. 마찬가지로 코드를 복사해 **`keypoint_using_mouse.py`**에 붙여넣어 주세요."
   ]
  },
  {
   "cell_type": "markdown",
   "metadata": {},
   "source": [
    "#### blend_view 함수 \n",
    "<details>\n",
    "\n",
    "``` python\n",
    "\n",
    "    def blend_view():\n",
    "        global gparam\n",
    "        gparam = {}\n",
    "        cv2.namedWindow('show', 0)\n",
    "        cv2.resizeWindow('show', 500, 500)\n",
    "\n",
    "        img_dir = check_dir()\n",
    "\n",
    "        fname, ext = os.path.splitext(config.img_path)\n",
    "        img_list = [os.path.basename(x) for x in sorted(glob(join(img_dir,'*%s'%ext)))]\n",
    "\n",
    "        dict_label = {}\n",
    "        dict_label['img_dir'] = img_dir\n",
    "        dict_label['labels'] = {}\n",
    "\n",
    "        json_path = os.getenv('HOME')+'/aiffel/coarse_to_fine/eye_annotation.json'\n",
    "        json_file = open(json_path, 'w', encoding='utf-8')\n",
    "\n",
    "        idx = img_list.index(os.path.basename(config.img_path))\n",
    "        pfname = img_list[idx]\n",
    "        orig = None\n",
    "        local_point = [] # 저장할 point list\n",
    "        while True:\n",
    "            start = cv2.getTickCount()\n",
    "            fname = img_list[idx]\n",
    "                    # 파일의 변경이 없거나 이미지가 없을 때, point 를 초기화함\n",
    "            if pfname != fname or orig is None:\n",
    "                orig = cv2.imread(join(img_dir, fname), 1)\n",
    "                gparam['point'] = []\n",
    "                pfname = fname\n",
    "                    # 저장할 point(local point) 와 새로 지정한 gparam['point'] 가 변경된 경우,\n",
    "                    # local_point 를 업데이트\n",
    "            if local_point != gparam['point']:\n",
    "                orig = cv2.imread(join(img_dir, fname), 1)\n",
    "                local_point = gparam['point']\n",
    "\n",
    "            img_show = orig\n",
    "            gparam['img'] = img_show\n",
    "            # gparm의 mouse로 클릭한 (x,y) 좌표 기록\n",
    "            cv2.setMouseCallback('show', select_point) # mouse event\n",
    "\n",
    "            if len(local_point) == 2:\n",
    "                img_show = cv2.circle(img_show, tuple(local_point),\n",
    "                                      2, (0,255,0), -1)\n",
    "                dict_label['labels'][fname] = local_point # label 로 저장\n",
    "\n",
    "            time = (cv2.getTickCount() - start) / cv2.getTickFrequency() * 1000\n",
    "\n",
    "            if img_show.shape[0] > 300:\n",
    "                cv2.putText(img_show, '%s'%fname, (5,10), cv2.FONT_HERSHEY_COMPLEX_SMALL, 0.5, (255,255,255))\n",
    "\n",
    "            print (f'[INFO] ({idx+1}/{len(img_list)}) {fname}... time: {time:.3f}ms', end='\\r')\n",
    "\n",
    "            cv2.imshow('show', img_show)\n",
    "\n",
    "            # 종료 ESC\n",
    "            key = cv2.waitKey(1)\n",
    "            if key == 27:\n",
    "                return -1\n",
    "            if key == ord('n'):\n",
    "                idx = move(1, idx, img_list)\n",
    "            elif key == ord('p'):\n",
    "                idx = move(-1, idx, img_list)\n",
    "            elif key == ord('v'):\n",
    "                print ()\n",
    "                pprint (dict_label)\n",
    "                print ()\n",
    "            elif key == ord('s'):\n",
    "                json.dump(dict_label, json_file, indent=2)\n",
    "                print (f'[INFO] < {json_path} > saved!')\n",
    "\n",
    "    if __name__ == '__main__':\n",
    "        blend_view()\n",
    "\n",
    "\n",
    "    ```\n",
    "    \n",
    "</details>"
   ]
  },
  {
   "cell_type": "markdown",
   "metadata": {},
   "source": [
    "**`main`** 함수인 **`blend_view()`** 는 이론 노드에서 만든 라벨링 툴의 구조와 비슷하게 구현했습니다.\n",
    "\n",
    "달라진 점은,\n",
    "\n",
    "- 마우스 이벤트를 사용하기 위해 무한루프를 사용해서 **`gparam`**을 입력 받을 수 있게 한 것\n",
    "\n",
    "\n",
    "- 이미지 변경이 없다면 **gparam['point']** 를 초기화하지 않을 것\n",
    "\n",
    "\n",
    "- 이미지 변경이 없더라도 callback 함수에서 **gparam** 변경이 일어나는 경우는 수정할 것\n",
    "\n",
    "이 있습니다.\n",
    "\n",
    "만든 프로그램을 실행시켜서 마우스로 점을 찍어 봅시다.\n",
    "\n",
    "우선 위 이미지를 다운받아, **`eye.png`** 이름으로 현재 프로젝트 폴더의 하위 디렉토리인 **`data`** 에 저장한 후, 아래 코드를 터미널에서 실행합니다."
   ]
  },
  {
   "cell_type": "markdown",
   "metadata": {},
   "source": [
    "눈동자 지점을 클릭한 후 **`s`**를 눌러 저장하면 **`esc`**를 눌러 프로그램을 종료할 때 **`~/aiffel/coarse_to_fine/eye_annotation.json`** 에 레이블이 저장됩니다.\n",
    "\n",
    "이제 레이블을 모아서 학습시킬 수 있습니다!"
   ]
  },
  {
   "cell_type": "markdown",
   "metadata": {},
   "source": [
    "---"
   ]
  },
  {
   "cell_type": "markdown",
   "metadata": {},
   "source": [
    "## 데이터를 모아보자\n",
    "\n",
    "이제 라벨링할 초기 데이터를 수집해야 합니다. 직접 촬영한 데이터를 쓸 수도 있지만 들이는 노력에 비해 데이터가 많이 모이지 않습니다. 때문에 공개된 데이터를 적극적으로 활용할 필요가 있습니다.\n",
    "\n",
    "우리가 모아야 할 라벨은 눈동자 위치이기 때문에 아래 순서로 데이터셋을 찾으면 좋습니다.\n",
    "\n",
    "1. 눈이 crop 되어 있고 눈동자 위치를 라벨로 가지고 있는 데이터   \n",
    "2. 얼굴 랜드마크(face landmark)를 가지고 있는 데이터   \n",
    "3. 얼굴 이미지를 가지고 있는 데이터   \n",
    "\n",
    "1번에 해당하는 데이터셋은 **BioID** 가 있습니다.\n",
    "\n",
    "- [BioID Face Database | Dataset for Face Detection | facedb - BioID](https://www.bioid.com/facedb/)"
   ]
  },
  {
   "cell_type": "markdown",
   "metadata": {},
   "source": [
    "BioID의 경우 우리가 해결해야 할 문제를 위한 데이터셋이지만 규모가 너무 작다는 단점이 있습니다. 충분한 양의 이미지를 수집하기 위해 다른 데이터셋도 조사해야 합니다.\n",
    "\n",
    "얼굴 랜드마크가 제공되는 데이터를 생각해봅시다. 랜드마크가 제공되는 경우는 눈 부분의 사진을 쉽게 crop해서 사용할 수 있기 때문에 라벨을 쉽게 만들 수 있습니다.\n",
    "\n"
   ]
  },
  {
   "cell_type": "markdown",
   "metadata": {},
   "source": [
    "### 랜드마크를 제공하는 데이터셋을 찾아보자\n",
    "---\n",
    "랜드마크를 제공하는 데이터셋을 찾아봅시다. 데이터를 어떻게 찾아가는지 함께 고민하는 것에 집중해주세요.\n",
    "\n",
    "우리는 **`dlib`** 패키지의 얼굴 랜드마크를 사용해오고 있습니다. 그렇다면 **`dlib`** 패키지를 구현하기 위해 사용된 랜드마크는 어떤 데이터셋으로 학습되었을까? 를 생각해보면 간단히 데이터를 찾을 수 있습니다.\n",
    "\n",
    "구글에 \"dlib face landmark dataset\"을 검색해봅시다. 검색 첫 페이지에서 아래 링크를 찾을 수 있습니다.\n",
    "\n",
    "- http://dlib.net/face_landmark_detection.py.html\n",
    "\n",
    "주석을 몇 줄 읽어보면 어떤 데이터셋을 사용해서 학습했는지 친절하게 안내되어 있습니다.\n",
    "\n"
   ]
  },
  {
   "cell_type": "markdown",
   "metadata": {},
   "source": [
    "``` python\n",
    "#   and was trained on the iBUG 300-W face landmark dataset (see\n",
    "#   https://ibug.doc.ic.ac.uk/resources/facial-point-annotations/):\n",
    "```"
   ]
  },
  {
   "cell_type": "markdown",
   "metadata": {},
   "source": [
    "**`iBUG 300-W`** 라는 데이터셋으로 학습했다고 합니다. 이 데이터셋을 이용하는 방법도 유용할 겁니다.\n",
    "\n",
    "이 경우에는 운이 좋았습니다. 하지만 실무에서 대부분의 경우는 내가 풀고자 하는 문제의 관련 도메인 데이터셋이 없기 때문에 위에서 알아본 방법 중 3번 방법도 고려해야 합니다.\n",
    "\n",
    "3번 방법을 연습해 보기 위해, 오늘은 LFW 데이터셋을 사용해 봅시다. 이 데이터셋은 **안면 인식(face recognition)**과 관련된 데이터셋입니다 (해당 사진이 누구의 얼굴인지 판단하는 데이터셋이죠). 얼굴이 포함된 이미지만 있고 얼굴의 랜드마크에 대한 정보는 없는 데이터셋입니다. 이 이미지에 dlib을 적용해서 얼굴 위치와 랜드마크 위치를 찾고 눈을 잘라낸 뒤 라벨링을 할 수 있습니다.\n",
    "\n",
    "데이터는 아래 링크에서 다운로드 받을 수 있습니다.\n",
    "\n",
    "- http://vis-www.cs.umass.edu/lfw/lfw.tgz\n"
   ]
  },
  {
   "attachments": {},
   "cell_type": "markdown",
   "metadata": {},
   "source": [
    "위와 같이 다운로드 후 압축을 풀면 아래와 같은 이미지를 볼 수 있습니다.\n",
    "\n",
    "![LFW%20%EB%8D%B0%EC%9D%B4%ED%84%B0%EC%85%8B%20%EC%98%88%EC%8B%9C.png](./images/LFW%20%EB%8D%B0%EC%9D%B4%ED%84%B0%EC%85%8B%20%EC%98%88%EC%8B%9C.png)\n",
    "\n",
    "**[LFW 데이터셋 예시]**"
   ]
  },
  {
   "attachments": {},
   "cell_type": "markdown",
   "metadata": {},
   "source": [
    "## Mean-shift를 이용한 눈동자 검출 방법 (1) 이론\n",
    "\n",
    "![Mean-shift_%EB%88%88%EB%8F%99%EC%9E%90_%EA%B2%80%EC%B6%9C.png](./images/Mean-shift_%EB%88%88%EB%8F%99%EC%9E%90_%EA%B2%80%EC%B6%9C.png)"
   ]
  },
  {
   "cell_type": "markdown",
   "metadata": {},
   "source": [
    "눈동자를 어떻게 검출할까요? 쉽게 떠오르는 방법은 **\"눈동자는 주변 부분에 비해 어두운 색을 지니고 있다.\"**를 가정으로 반전된 1D 이미지에서 최댓값을 찾는 방법입니다.\n",
    "\n"
   ]
  },
  {
   "cell_type": "markdown",
   "metadata": {},
   "source": [
    "![Mean-shift_%EB%B0%98%EC%A0%84%EB%90%9C_%EB%88%88%EB%8F%99%EC%9E%90.png](./images/Mean-shift_%EB%B0%98%EC%A0%84%EB%90%9C_%EB%88%88%EB%8F%99%EC%9E%90.png)\n",
    "**[위 이미지의 하단 및 우측 1차원 벡터에서 최대값을 찾는 방법을 사용했습니다.]**"
   ]
  },
  {
   "cell_type": "markdown",
   "metadata": {},
   "source": [
    "물론 이와 같은 가우시안 블러가 모든 상황을 해결할 수 있는 방법은 아닙니다. 아래 이미지와 같이 눈 근처에 머리카락이 나타나서 눈 가장자리에 검정색이 큰 비중으로 등장하는 경우는 눈동자보다 가장자리에 수렴할 확률이 높습니다. 특히 머리가 긴 분들에게 자주 나타날 수 있는 현상입니다."
   ]
  },
  {
   "cell_type": "markdown",
   "metadata": {},
   "source": [
    "![%EB%88%88%EB%8F%99%EC%9E%90_%EB%A8%B8%EB%A6%AC%EC%B9%B4%EB%9D%BD.png](./images/%EB%88%88%EB%8F%99%EC%9E%90_%EB%A8%B8%EB%A6%AC%EC%B9%B4%EB%9D%BD.png)"
   ]
  },
  {
   "cell_type": "markdown",
   "metadata": {},
   "source": [
    "2차원 블러 특성 이미지(feature image)에서는 눈동자가 2차원 정규분포로 나타나는 영역이 있는 것으로 보입니다. 하지만 1차원 누적 그래프를 보면 x축으로 2개의 봉우리를 가지는 것을 관찰할 수 있습니다. 최댓값을 찾는 알고리즘을 왼쪽부터 시작했다면 가장 왼쪽에서 만나는 255에 수렴할 것입니다.\n",
    "\n",
    "따라서 우리는 **1D 누적 그래프**와 **2D 특성 이미지**를 모두 사용합니다. 2D에서는 어떻게 최고점을 찾아갈 수 있을까요?\n",
    "\n"
   ]
  },
  {
   "cell_type": "markdown",
   "metadata": {},
   "source": [
    "![2D_%EC%B5%9C%EA%B3%A0%EC%A0%90_%EC%B0%BE%EA%B8%B0.png](./images/2D_%EC%B5%9C%EA%B3%A0%EC%A0%90_%EC%B0%BE%EA%B8%B0.png)"
   ]
  },
  {
   "cell_type": "markdown",
   "metadata": {},
   "source": [
    "1. **이미지 중심점을 초기값으로 설정하겠습니다.**   \n",
    "눈의 중심에 눈동자가 있을 확률이 높기 때문에 초기값으로 정하기에 아주 좋습니다.)   \n",
    "\n",
    "\n",
    "2. **중심점을 기준으로 작은 box를 설정합니다.**   \n",
    "box의 크기는 문제에 따라 적절한 값을 설정해야 합니다.   \n",
    "그림에서 회색박스를 생각하시면 됩니다.  \n",
    "\n",
    "\n",
    "3. **box 내부의 pixel 값을 이용해서 '무게중심'을 찾습니다.**   \n",
    "이 때 무게중심은 pixel intensity를 weight 로 사용할 수 있습니다. [ *색깔이 더 진한 지점* ]   \n",
    "\n",
    "\n",
    "4. **찾은 무게중심을 새로운 box의 중심으로 설정합니다.**    \n",
    "이 단계에서 박스가 이동하게 됩니다. 이제 회색박스에서 초록색박스로 관심영역이 이동했습니다.   \n",
    "\n",
    "\n",
    "5. **다시 초록색 박스를 기준으로 2-4를 반복합니다.**    \n",
    "\n",
    "\n",
    "6. **중심점이 수렴할 때 까지 2~5를 반복하면 수렴한 점의 위치로 눈동자를 찾을 수 있습니다.**    "
   ]
  },
  {
   "cell_type": "markdown",
   "metadata": {},
   "source": [
    "머신러닝에 이미 비슷한 알고리즘이 존재합니다. 현재 위치와 탐색반경을 가질 때 평균의 위치를 이용해서 반복적으로 움직이는 알고리즘인 **Mean Shift** 라는 알고리즘입니다"
   ]
  },
  {
   "attachments": {},
   "cell_type": "markdown",
   "metadata": {},
   "source": [
    "![mean_shift_%EC%95%8C%EA%B3%A0%EB%A6%AC%EC%A6%98.png](./images/mean_shift_%EC%95%8C%EA%B3%A0%EB%A6%AC%EC%A6%98.png)"
   ]
  },
  {
   "cell_type": "markdown",
   "metadata": {},
   "source": [
    "mean shift는 탐색반경 내 데이터 포인트의 평균을 구하고 평균 위치로 이동을 반복해 가면서 데이터 분포의 중심으로 이동합니다. 더 자세한 설명은 아래 링크를 참고해주세요.\n",
    "\n",
    "- [영상추적#1 - Mean Shift 추적](https://darkpgmr.tistory.com/64)"
   ]
  },
  {
   "cell_type": "markdown",
   "metadata": {},
   "source": [
    "---"
   ]
  },
  {
   "cell_type": "markdown",
   "metadata": {},
   "source": [
    "## Mean-shift를 이용한 눈동자 검출 방법 (2) 실습\n",
    "눈동자를 검출하는 mean shift 기법을 코드로 구현해 봅시다. 오늘의 시작포인트는 바로 지난 노드에서 구현해 보았던 눈동자 찾기 실습코드입니다.\n",
    "\n",
    "해당 코드를 하나의 파일로 정리하여 **`eye_center_basic.py`**에 저장하였습니다. 이 코드를 이후 실습의 베이스라인으로 사용하겠습니다.\n"
   ]
  },
  {
   "cell_type": "markdown",
   "metadata": {},
   "source": [
    "<details markdown=\"1\">\n",
    "<summary><b> ▶ eye_center_basic.py 코드 상세</b></summary>\n",
    "\n",
    "<!--summary 아래 빈칸 공백 두고 내용을 적는공간-->\n",
    "``` python\n",
    "import matplotlib.pylab as plt\n",
    "import tensorflow as tf\n",
    "import os\n",
    "from os.path import join\n",
    "from glob import glob\n",
    "from tqdm import tqdm\n",
    "import numpy as np\n",
    "import cv2\n",
    "import math\n",
    "import dlib\n",
    "import argparse\n",
    "\n",
    "args = argparse.ArgumentParser()\n",
    "\n",
    "# hyperparameters\n",
    "args.add_argument('show_substep', type=bool, nargs='?', default=False)\n",
    "\n",
    "config = args.parse_args()\n",
    "\n",
    "\n",
    "\n",
    "img = cv2.imread('./images/image.png')\n",
    "print (img.shape)\n",
    "\n",
    "if config.show_substep:\n",
    "    plt.imshow(cv2.cvtColor(img, cv2.COLOR_BGR2RGB))\n",
    "    plt.show()\n",
    "\n",
    "img_bgr = img.copy()\n",
    "\n",
    "detector_hog = dlib.get_frontal_face_detector() # detector 선언\n",
    "landmark_predictor = dlib.shape_predictor('./models/shape_predictor_68_face_landmarks.dat')\n",
    "\n",
    "img_rgb = cv2.cvtColor(img_bgr, cv2.COLOR_BGR2RGB)\n",
    "dlib_rects = detector_hog(img_rgb, 1) # (image, num of img pyramid)\n",
    "\n",
    "list_landmarks = []\n",
    "for dlib_rect in dlib_rects:\n",
    "    points = landmark_predictor(img_rgb, dlib_rect)\n",
    "    list_points = list(map(lambda p: (p.x, p.y), points.parts()))\n",
    "    list_landmarks.append(list_points)\n",
    "\n",
    "for dlib_rect in dlib_rects:\n",
    "    l = dlib_rect.left()\n",
    "    t = dlib_rect.top()\n",
    "    r = dlib_rect.right()\n",
    "    b = dlib_rect.bottom()\n",
    "    cv2.rectangle(img_rgb, (l,t), (r,b), (0,255,0), 2, lineType=cv2.LINE_AA)\n",
    "\n",
    "for landmark in list_landmarks:\n",
    "    for idx, point in enumerate(list_points):\n",
    "        cv2.circle(img_rgb, point, 2, (255, 255, 0), -1) # yellow\n",
    "\n",
    "if config.show_substep:\n",
    "    plt.imshow(img_rgb)\n",
    "    plt.show()\n",
    "\n",
    "\n",
    "def eye_crop(bgr_img, landmark):\n",
    "    # dlib eye landmark: 36~41 (6), 42~47 (6)\n",
    "    np_left_eye_points = np.array(landmark[36:42])\n",
    "    np_right_eye_points = np.array(landmark[42:48])\n",
    "\n",
    "    np_left_tl = np_left_eye_points.min(axis=0)\n",
    "    np_left_br = np_left_eye_points.max(axis=0)\n",
    "    np_right_tl = np_right_eye_points.min(axis=0)\n",
    "    np_right_br = np_right_eye_points.max(axis=0)\n",
    "\n",
    "    list_left_tl = np_left_tl.tolist()\n",
    "    list_left_br = np_left_br.tolist()\n",
    "    list_right_tl = np_right_tl.tolist()\n",
    "    list_right_br = np_right_br.tolist()\n",
    "\n",
    "    left_eye_size = np_left_br - np_left_tl\n",
    "    right_eye_size = np_right_br - np_right_tl\n",
    "\n",
    "    ### if eye size is small\n",
    "    if left_eye_size[1] < 5:\n",
    "        margin = 1\n",
    "    else:\n",
    "        margin = 6\n",
    "\n",
    "    img_left_eye = bgr_img[np_left_tl[1]-margin:np_left_br[1]+margin, np_left_tl[0]-margin//2:np_left_br[0]+margin//2]\n",
    "    img_right_eye = bgr_img[np_right_tl[1]-margin:np_right_br[1]+margin, np_right_tl[0]-margin//2:np_right_br[0]+margin//2]\n",
    "\n",
    "    return [img_left_eye, img_right_eye]\n",
    "\n",
    "# 눈 이미지 crop\n",
    "img_left_eye, img_right_eye = eye_crop(img_bgr, list_landmarks[0])\n",
    "\n",
    "print (img_left_eye.shape) # (26, 47, 3)\n",
    "\n",
    "if config.show_substep:\n",
    "    plt.imshow(cv2.cvtColor(img_right_eye, cv2.COLOR_BGR2RGB))\n",
    "    plt.show()\n",
    "\n",
    "\n",
    "# 눈 이미지에서 중심을 찾는 함수\n",
    "def findCenterPoint(gray_eye, str_direction='left'):\n",
    "    if gray_eye is None:\n",
    "        return [0, 0]\n",
    "    filtered_eye = cv2.bilateralFilter(gray_eye, 7, 75, 75)\n",
    "    filtered_eye = cv2.bilateralFilter(filtered_eye, 7, 75, 75)\n",
    "    filtered_eye = cv2.bilateralFilter(filtered_eye, 7, 75, 75)\n",
    "\n",
    "    # 2D images -> 1D signals\n",
    "    row_sum = 255 - np.sum(filtered_eye, axis=0)//gray_eye.shape[0]\n",
    "    col_sum = 255 - np.sum(filtered_eye, axis=1)//gray_eye.shape[1]\n",
    "\n",
    "    # normalization & stabilization\n",
    "    def vector_normalization(vector):\n",
    "        vector = vector.astype(np.float32)\n",
    "        vector = (vector-vector.min())/(vector.max()-vector.min()+1e-6)*255\n",
    "        vector = vector.astype(np.uint8)\n",
    "        vector = cv2.blur(vector, (5,1)).reshape((vector.shape[0],))\n",
    "        vector = cv2.blur(vector, (5,1)).reshape((vector.shape[0],))            \n",
    "        return vector\n",
    "    row_sum = vector_normalization(row_sum)\n",
    "    col_sum = vector_normalization(col_sum)\n",
    "\n",
    "    def findOptimalCenter(gray_eye, vector, str_axis='x'):\n",
    "        axis = 1 if str_axis == 'x' else 0\n",
    "        center_from_start = np.argmax(vector)\n",
    "        center_from_end = gray_eye.shape[axis]-1 - np.argmax(np.flip(vector,axis=0))\n",
    "        return (center_from_end + center_from_start) // 2\n",
    "\n",
    "    center_x = findOptimalCenter(gray_eye, row_sum, 'x')\n",
    "    center_y = findOptimalCenter(gray_eye, col_sum, 'y')\n",
    "\n",
    "    if center_x >= gray_eye.shape[1]-2 or center_x <= 2:\n",
    "        center_x = -1\n",
    "    elif center_y >= gray_eye.shape[0]-1 or center_y <= 1:\n",
    "        center_y = -1\n",
    "\n",
    "    return [center_x, center_y]\n",
    "\n",
    "# 눈동자 검출 wrapper 함수\n",
    "def detectPupil(bgr_img, landmark):\n",
    "    if landmark is None:\n",
    "        return\n",
    "\n",
    "    img_eyes = []\n",
    "    img_eyes = eye_crop(bgr_img, landmark)\n",
    "\n",
    "    gray_left_eye = cv2.cvtColor(img_eyes[0], cv2.COLOR_BGR2GRAY)\n",
    "    gray_right_eye = cv2.cvtColor(img_eyes[1], cv2.COLOR_BGR2GRAY)\n",
    "\n",
    "    if gray_left_eye is None or gray_right_eye is None:\n",
    "        return \n",
    "\n",
    "    left_center_x, left_center_y = findCenterPoint(gray_left_eye,'left')\n",
    "    right_center_x, right_center_y = findCenterPoint(gray_right_eye,'right')\n",
    "\n",
    "    return [left_center_x, left_center_y, right_center_x, right_center_y, gray_left_eye.shape, gray_right_eye.shape]\n",
    "\n",
    "# 눈동자 중심 좌표 출력\n",
    "left_center_x, left_center_y, right_center_x, right_center_y, le_shape, re_shape = detectPupil(img_bgr, list_landmarks[0])\n",
    "print ((left_center_x, left_center_y), (right_center_x, right_center_y), le_shape, re_shape)\n",
    "\n",
    "# 이미지 출력\n",
    "show = img_right_eye.copy()\n",
    "\n",
    "show = cv2.circle(show, (right_center_x, right_center_y), 2, (0,255,255), -1)\n",
    "\n",
    "plt.imshow(cv2.cvtColor(show, cv2.COLOR_BGR2RGB))\n",
    "plt.show()\n",
    "```\n",
    "</details>"
   ]
  },
  {
   "cell_type": "markdown",
   "metadata": {},
   "source": [
    "이 코드의 동작은 아래와 같이 확인해 볼 수 있습니다. **`show_substep argument`**의 옵션을 True로 주게 되면 매 스텝의 작동을 차례차례 확인해볼 수 있습니다. 옵션을 False로 주거나 생략(기본옵션)하면 최종 결과만 확인하게 됩니다."
   ]
  },
  {
   "cell_type": "markdown",
   "metadata": {},
   "source": [
    "이제 mean shift 알고리즘을 적용해 봅시다. **`eye_center_basic.py`** 파일을 복사하여 **`eye_center_meanshift.py`**를 생성합니다.\n"
   ]
  },
  {
   "cell_type": "markdown",
   "metadata": {},
   "source": [
    "**`eye_center_meanshift.py`** 파일을 편집기로 열어 기존 함수 중 **`findCenterPoint`**를 다음과 같이 수정합니다.\n"
   ]
  },
  {
   "cell_type": "markdown",
   "metadata": {},
   "source": [
    "<details markdown=\"1\">\n",
    "<summary><b> ▶ findCenterPoint 함수</b></summary>\n",
    "\n",
    "``` python  \n",
    "def findCenterPoint(gray_eye, str_direction='left'):\n",
    "    if gray_eye is None:\n",
    "        return [0, 0]\n",
    "    filtered_eye = cv2.bilateralFilter(gray_eye, 7, 75, 75)\n",
    "    filtered_eye = cv2.bilateralFilter(filtered_eye, 7, 75, 75)\n",
    "    filtered_eye = cv2.bilateralFilter(filtered_eye, 7, 75, 75)\n",
    "\n",
    "    # 2D images -> 1D signals\n",
    "    row_sum = 255 - np.sum(filtered_eye, axis=0)//gray_eye.shape[0]\n",
    "    col_sum = 255 - np.sum(filtered_eye, axis=1)//gray_eye.shape[1]\n",
    "\n",
    "    # normalization & stabilization\n",
    "    def vector_normalization(vector):\n",
    "        vector = vector.astype(np.float32)\n",
    "        vector = (vector-vector.min())/(vector.max()-vector.min()+1e-6)*255\n",
    "        vector = vector.astype(np.uint8)\n",
    "        vector = cv2.blur(vector, (5,1)).reshape((vector.shape[0],))\n",
    "        vector = cv2.blur(vector, (5,1)).reshape((vector.shape[0],))            \n",
    "        return vector\n",
    "    row_sum = vector_normalization(row_sum)\n",
    "    col_sum = vector_normalization(col_sum)\n",
    "\n",
    "    def findOptimalCenter(gray_eye, vector, str_axis='x'):\n",
    "        axis = 1 if str_axis == 'x' else 0\n",
    "        center_from_start = np.argmax(vector)\n",
    "        center_from_end = gray_eye.shape[axis]-1 - np.argmax(np.flip(vector,axis=0))\n",
    "        return (center_from_end + center_from_start) // 2\n",
    "\n",
    "    # x 축 center 를 찾는 알고리즘을 mean shift 로 대체합니다.\n",
    "    # center_x = findOptimalCenter(gray_eye, row_sum, 'x')\n",
    "    center_y = findOptimalCenter(gray_eye, col_sum, 'y')\n",
    "\n",
    "    # 수정된 부분\n",
    "    inv_eye = (255 - filtered_eye).astype(np.float32)\n",
    "    inv_eye = (255*(inv_eye - inv_eye.min())/(inv_eye.max()-inv_eye.min())).astype(np.uint8)\n",
    "\n",
    "    resized_inv_eye = cv2.resize(inv_eye, (inv_eye.shape[1]//3, inv_eye.shape[0]//3))\n",
    "    init_point = np.unravel_index(np.argmax(resized_inv_eye),resized_inv_eye.shape)\n",
    "\n",
    "    x_candidate = init_point[1]*3 + 1\n",
    "    for idx in range(10):\n",
    "        temp_sum = row_sum[x_candidate-2:x_candidate+3].sum()\n",
    "        if temp_sum == 0:\n",
    "            break\n",
    "        normalized_row_sum_part = row_sum[x_candidate-2:x_candidate+3].astype(np.float32)//temp_sum\n",
    "        moving_factor = normalized_row_sum_part[3:5].sum() - normalized_row_sum_part[0:2].sum()\n",
    "        if moving_factor > 0.0:\n",
    "            x_candidate += 1\n",
    "        elif moving_factor < 0.0:\n",
    "            x_candidate -= 1\n",
    "\n",
    "    center_x = x_candidate\n",
    "\n",
    "    if center_x >= gray_eye.shape[1]-2 or center_x <= 2:\n",
    "        center_x = -1\n",
    "    elif center_y >= gray_eye.shape[0]-1 or center_y <= 1:\n",
    "        center_y = -1\n",
    "\n",
    "    return [center_x, center_y]\n",
    "\n",
    "```\n",
    "</details>"
   ]
  },
  {
   "cell_type": "markdown",
   "metadata": {},
   "source": [
    "먼저, 눈 이미지를 low pass filter를 이용해서 smoothing 합니다. 저는 bilateral filter를 이용했습니다.\n",
    "\n",
    "다음으로 1차원 값으로 누적시킨 후 **`y`** 축 기준으로 최대값을 찾아서 **`y`**축의 중심점 좌표를 먼저 얻어냅니다. (y 축은 x 축에 비해 상대적으로 변화가 적기 때문에 간단하게 구현합니다.)\n",
    "\n",
    "**`x`**축은 1차원 최댓값 지점을 기준으로 mean shift를 수행합니다. 양 끝단에 수렴하는 예외를 처리한 후 결과를 출력합니다.\n",
    "\n"
   ]
  },
  {
   "cell_type": "markdown",
   "metadata": {},
   "source": [
    "``` python\n",
    "\n",
    "# 눈동자 중심 좌표 출력\n",
    "left_center_x, left_center_y, right_center_x, right_center_y, le_shape, re_shape = detectPupil(img_bgr, list_landmarks[0])\n",
    "print ((left_center_x, left_center_y), (right_center_x, right_center_y), le_shape, re_shape)\n",
    "\n",
    "# 이미지 출력\n",
    "show = img_right_eye.copy()\n",
    "show = cv2.circle(show, (right_center_x, right_center_y), 2, (0,255,255), -1)\n",
    "\n",
    "plt.imshow(cv2.cvtColor(show, cv2.COLOR_BGR2RGB))\n",
    "plt.show()\n",
    "\n",
    "```"
   ]
  },
  {
   "cell_type": "markdown",
   "metadata": {},
   "source": [
    "결과를 뽑아보겠습니다.\n",
    "\n",
    "```\n",
    "$ cd ~/aiffel/coarse_to_fine && python eye_center_meanshift.py\n",
    "```"
   ]
  },
  {
   "attachments": {},
   "cell_type": "markdown",
   "metadata": {},
   "source": [
    "![eye_center_meanshift%EB%A5%BC%20%ED%99%9C%EC%9A%A9%ED%95%9C%20%EB%88%88%EB%8F%99%EC%9E%90%20%EA%B2%80%EC%B6%9C.png](./images/eye_center_meanshift%EB%A5%BC%20%ED%99%9C%EC%9A%A9%ED%95%9C%20%EB%88%88%EB%8F%99%EC%9E%90%20%EA%B2%80%EC%B6%9C.png)"
   ]
  },
  {
   "cell_type": "markdown",
   "metadata": {},
   "source": [
    "여전히 눈동자 중심은 아니어서 조금 아쉽습니다. 기존 머신러닝 기반 알고리즘으로는 성능을 큰 폭으로 향상시키기 어렵습니다. 하지만 예외 상황에 대해 더 강건한 모델을 만들 수 있는 장점이 있습니다. 일반화에 한 걸음 더 가까워지고 있습니다."
   ]
  },
  {
   "cell_type": "markdown",
   "metadata": {},
   "source": [
    "---"
   ]
  },
  {
   "cell_type": "markdown",
   "metadata": {},
   "source": [
    "## 키포인트 검출 딥러닝 모델 만들기 (1) 데이터 확인\n",
    "더 나은 성능을 위해 딥러닝 모델을 만들어 보겠습니다. 지난 이론 시간에 배웠던 딥러닝 모델링 기법을 적용해 실제로 학습을 수행해보겠습니다.\n",
    "\n",
    "이번 단계에서는 대량의 눈동자 위치 라벨이 필요합니다. 앞에서 만든 coarse dataset 또는 직접 어노테이션 한 라벨이 10,000개 이상 있어야 성능을 확인할 수 있습니다.\n",
    "\n",
    "이전 스텝에서 다룬 눈동자 검출 방법을 LFW 데이터셋에 적용하여 필요한 만큼의 데이터셋을 생성해 봅시다. 데이터셋을 생성하는 코드 **`prepare_eye_dataset.py`**를 실행하면 아래 사용할 데이터셋이 LFW 데이터셋으로부터 가공 생성됩니다.   \n",
    "생성된 데이터셋은 **`~/lfw/data/train, ~/lfw/data/valid`** 아래에서 확인할 수 있습니다."
   ]
  },
  {
   "cell_type": "code",
   "execution_count": 1,
   "metadata": {},
   "outputs": [],
   "source": [
    "import tensorflow as tf\n",
    "import numpy as np\n",
    "import math\n",
    "import tensorflow_hub as hub\n",
    "from tensorflow.keras import layers\n",
    "from tensorflow.keras import models\n",
    "from tensorflow.keras.callbacks import LearningRateScheduler"
   ]
  },
  {
   "cell_type": "markdown",
   "metadata": {},
   "source": [
    "TensorFlow Hub에서 제공하는 **pretrained image feature embedding**을 가지고 fine tuning을 해보겠습니다.\n",
    "\n",
    "가지고 있는 데이터를 케라스 **`ImageDataGenerator`** 형식으로 읽습니다. 저는 라벨을 **`image`** 형태로 저장해 두었습니다."
   ]
  },
  {
   "cell_type": "code",
   "execution_count": 2,
   "metadata": {},
   "outputs": [
    {
     "name": "stdout",
     "output_type": "stream",
     "text": [
      "23712 23712\n",
      "Found 23712 images belonging to 1 classes.\n",
      "Found 23712 images belonging to 1 classes.\n"
     ]
    }
   ],
   "source": [
    "import glob\n",
    "import os\n",
    "\n",
    "home_dir = os.getenv('HOME')+'/aiffel/coarse_to_fine'\n",
    "list_image = sorted(glob.glob(home_dir+'/data/train/input/img/*.png'))\n",
    "list_label = sorted(glob.glob(home_dir+'/data/train/label/mask/*.png'))\n",
    "print (len(list_image), len(list_label))\n",
    "\n",
    "# 32의 배수를 벗어나는 파일 경로들을 담은 list\n",
    "list_image_out_of_range = list_image[len(list_image) - (len(list_image) % 32):]\n",
    "list_label_out_of_range = list_label[len(list_label) - (len(list_label) % 32):]\n",
    "\n",
    "# 해당 list가 존재한다면, 파일 삭제\n",
    "if list_image_out_of_range:\n",
    "    for path in list_image_out_of_range:\n",
    "        os.remove(path)\n",
    "if list_label_out_of_range:\n",
    "    for path in list_label_out_of_range:\n",
    "        os.remove(path)\n",
    "\n",
    "IMAGE_SHAPE = (80, 120)\n",
    "data_root = home_dir+'/data/train/input'\n",
    "label_root = home_dir+'/data/train/label'\n",
    "\n",
    "image_generator = tf.keras.preprocessing.image.ImageDataGenerator()\n",
    "label_generator = tf.keras.preprocessing.image.ImageDataGenerator()\n",
    "image_data = image_generator.flow_from_directory(str(data_root), class_mode=None, target_size=IMAGE_SHAPE, batch_size=32)\n",
    "label_data = label_generator.flow_from_directory(str(label_root), class_mode=None, target_size=IMAGE_SHAPE, batch_size=32)"
   ]
  },
  {
   "cell_type": "markdown",
   "metadata": {},
   "source": [
    "train 데이터셋이 23,712쌍, val 데이터셋이 2,638쌍 생성될 것입니다.\n",
    "\n",
    ">경우에 따라서는 train 데이터셋의 갯수가 23,712쌍과 다소 다르게 만들어질 수 있습니다. batch_size 32의 배수인 23,712쌍과 같아지도록 이미지 데이터의 갯수를 맞춰주도록 합시다. 32의 배수 조건만 만족하면 됩니다."
   ]
  },
  {
   "cell_type": "markdown",
   "metadata": {},
   "source": [
    "아래 코드에서는 **`image_generator`**, **`label generator를`** 학습할 수 있는 입출력 형식으로 편집합니다. 텐서플로우의 제너레이터(generator) 형식을 사용하고 있기 때문에 출력 형식도 맞추어 주겠습니다.\n",
    "\n",
    "- 참고: [제너레이터](https://tensorflow.blog/%ED%9A%8C%EC%98%A4%EB%A6%AC%EB%B0%94%EB%9E%8C%EC%9D%84-%ED%83%84-%ED%8C%8C%EC%9D%B4%EC%8D%AC/%EC%A0%9C%EB%84%88%EB%A0%88%EC%9D%B4%ED%84%B0/)"
   ]
  },
  {
   "cell_type": "markdown",
   "metadata": {},
   "source": [
    "학습 라벨을 만들 때 3개의 점을 **`label`** 이미지에 표시했습니다. 눈의 왼쪽 끝점을 **`1`**의 값으로, 오른쪽 끝점은 **`2`**의 값으로, 가장 중요한 눈 중심(눈동자)는 **`3`**으로 인코딩 했습니다. **`np.where()`** 함수로 이미지에서 좌표로 복원합니다."
   ]
  },
  {
   "cell_type": "code",
   "execution_count": 3,
   "metadata": {},
   "outputs": [],
   "source": [
    "def user_generation(train_generator, label_generator):\n",
    "    h, w = train_generator.target_size\n",
    "    for images, labels in zip(train_generator, label_generator):\n",
    "        images /= 255.\n",
    "        images = images[..., ::-1] # rgb to bgr\n",
    "\n",
    "        list_point_labels = []\n",
    "        for img, label in zip(images, labels):\n",
    "\n",
    "            eye_ls = np.where(label==1) # leftside\n",
    "            eye_rs = np.where(label==2) # rightside\n",
    "            eye_center = np.where(label==3)  # eye middle [눈동자]\n",
    "\n",
    "            lx, ly = [eye_ls[1].mean(), eye_ls[0].mean()]\n",
    "            rx, ry = [eye_rs[1].mean(), eye_rs[0].mean()]\n",
    "            cx, cy = [eye_center[1].mean(), eye_center[0].mean()]\n",
    "\n",
    "            if len(eye_ls[0])==0 or len(eye_ls[1])==0:\n",
    "                lx, ly = [0, 0]\n",
    "            if len(eye_rs[0])==0 or len(eye_rs[1])==0:\n",
    "                rx, ry = [w, h]\n",
    "            if len(eye_center[0])==0 or len(eye_center[1])==0:\n",
    "                cx, cy = [0, 0]\n",
    "\n",
    "            np_point_label = np.array([lx/w,ly/h,rx/w,ry/h,cx/w,cy/h], dtype=np.float32)\n",
    "\n",
    "            list_point_labels.append(np_point_label)\n",
    "        np_point_labels = np.array(list_point_labels)\n",
    "        yield (images, np_point_labels)"
   ]
  },
  {
   "cell_type": "markdown",
   "metadata": {},
   "source": [
    "**Q10. 좌표로 복원할 때 eye_ls[1].mean() 으로 평균값을 구했습니다. 왜 그랬을까요? 어떤 장점을 활용하려고 한 걸까요?**\n",
    "<br>\n",
    "\n",
    "**A.**      \n",
    "눈 크기가 이미지마다, 사람마다 다르기 때문에 반드시 resize를 해야 합니다. 이 때 라벨을 이미지에 하나의 점으로 표현하면 resize 과정에서 소실될 수 있습니다. 이런 단점을 극복하기 위해 라벨 이미지를 만들 때 gaussian smoothing을 적용해서 변화에 유연하게 대응 할 수 있도록 했습니다. 이 방법을 취하면 이후 augmentation을 구현할 때도 추가적인 노력없이 바로 라벨을 사용할 수 있습니다."
   ]
  },
  {
   "cell_type": "markdown",
   "metadata": {},
   "source": [
    "만들어진 제너레이터로 데이터 포인트를 뽑아 관찰해 봅시다."
   ]
  },
  {
   "cell_type": "code",
   "execution_count": 4,
   "metadata": {},
   "outputs": [
    {
     "name": "stdout",
     "output_type": "stream",
     "text": [
      "(80, 120, 3) [0.         0.         1.         1.         0.23333333 0.40845093]\n",
      "(80, 120, 3) [0.         0.         1.         1.         0.04947917 0.40693933]\n"
     ]
    },
    {
     "name": "stderr",
     "output_type": "stream",
     "text": [
      "/home/ssac27/anaconda3/envs/aiffel/lib/python3.7/site-packages/ipykernel_launcher.py:14: RuntimeWarning: Mean of empty slice.\n",
      "  \n",
      "/home/ssac27/anaconda3/envs/aiffel/lib/python3.7/site-packages/numpy/core/_methods.py:161: RuntimeWarning: invalid value encountered in double_scalars\n",
      "  ret = ret.dtype.type(ret / rcount)\n",
      "/home/ssac27/anaconda3/envs/aiffel/lib/python3.7/site-packages/ipykernel_launcher.py:15: RuntimeWarning: Mean of empty slice.\n",
      "  from ipykernel import kernelapp as app\n"
     ]
    }
   ],
   "source": [
    "user_train_generator = user_generation(image_data, label_data)\n",
    "for i in range(2):\n",
    "    dd = next(user_train_generator)\n",
    "    print (dd[0][0].shape, dd[1][0])"
   ]
  },
  {
   "cell_type": "markdown",
   "metadata": {},
   "source": [
    "120x80의 정해진 크기로 이미지가 잘 출력되고 라벨 또한 0~1 값으로 정규화(normalize) 되어 있는 것을 확인할 수 있습니다."
   ]
  },
  {
   "cell_type": "markdown",
   "metadata": {},
   "source": [
    "---"
   ]
  },
  {
   "cell_type": "markdown",
   "metadata": {},
   "source": [
    "## 키포인트 검출 딥러닝 모델 만들기 (2) 모델 설계\n",
    "\n",
    "데이터가 준비되었으니 이제 네트워크를 디자인합니다. 우리는 데이터가 없는 상황이기 때문에 미리 학습된 모델을 적극적으로 활용해야 합니다. TensorFlow Hub에서 ResNet의 특성추출기 부분을 백본(backbone)으로 사용하겠습니다.\n",
    "\n",
    "**`tf.keras.Sequential()`**을 이용해서 백본 네트워크와 fully connected layer를 쌓아서 아주 쉽게 모델을 완성할 수 있습니다. 데이터 제너레이터를 만들 때 출력을 6개((x, y) 좌표 2개 * 점 3개) 로 했기 때문에 **`num_classes`** 는 6으로 설정합니다."
   ]
  },
  {
   "cell_type": "markdown",
   "metadata": {},
   "source": [
    "#### 예시 코드 \n",
    "\n",
    "<details>\n",
    "\n",
    "``` python\n",
    "    \n",
    "''' tf hub feature_extractor '''\n",
    "feature_extractor_url = \"https://tfhub.dev/google/imagenet/resnet_v2_50/feature_vector/4\"\n",
    "feature_extractor_layer = hub.KerasLayer(feature_extractor_url,\n",
    "                                            input_shape=(80,120,3))\n",
    "\n",
    "image_batch = next(image_data)\n",
    "feature_batch = feature_extractor_layer(image_batch)\n",
    "print(feature_batch.shape)\n",
    "\n",
    "num_classes = 6\n",
    "\n",
    "feature_extractor_layer.trainable = False\n",
    "model = tf.keras.Sequential([\n",
    "    feature_extractor_layer,\n",
    "    #layers.Dense(1024, activation='relu'),\n",
    "    #layers.Dropout(0.5),\n",
    "    layers.Dense(num_classes, activation='sigmoid'),\n",
    "])\n",
    "\n",
    "model.summary()\n",
    "\n",
    "```\n",
    "    \n",
    "</details>"
   ]
  },
  {
   "cell_type": "code",
   "execution_count": 5,
   "metadata": {},
   "outputs": [
    {
     "name": "stdout",
     "output_type": "stream",
     "text": [
      "(32, 2048)\n"
     ]
    }
   ],
   "source": [
    "''' tf hub feature_extractor '''\n",
    "feature_extractor_url = \"https://tfhub.dev/google/imagenet/resnet_v2_50/feature_vector/4\"\n",
    "feature_extractor_layer = hub.KerasLayer(feature_extractor_url,\n",
    "                                            input_shape=(80,120,3))\n",
    "\n",
    "image_batch = next(image_data)\n",
    "feature_batch = feature_extractor_layer(image_batch)\n",
    "print(feature_batch.shape)\n",
    "\n",
    "num_classes = 6\n",
    "\n",
    "feature_extractor_layer.trainable = False\n",
    "model = tf.keras.Sequential([\n",
    "    feature_extractor_layer,\n",
    "    layers.Dense(num_classes, activation='sigmoid'),\n",
    "])"
   ]
  },
  {
   "cell_type": "code",
   "execution_count": 6,
   "metadata": {},
   "outputs": [
    {
     "name": "stdout",
     "output_type": "stream",
     "text": [
      "Model: \"sequential\"\n",
      "_________________________________________________________________\n",
      "Layer (type)                 Output Shape              Param #   \n",
      "=================================================================\n",
      "keras_layer (KerasLayer)     (None, 2048)              23564800  \n",
      "_________________________________________________________________\n",
      "dense (Dense)                (None, 6)                 12294     \n",
      "=================================================================\n",
      "Total params: 23,577,094\n",
      "Trainable params: 12,294\n",
      "Non-trainable params: 23,564,800\n",
      "_________________________________________________________________\n"
     ]
    }
   ],
   "source": [
    "model.summary()"
   ]
  },
  {
   "cell_type": "markdown",
   "metadata": {},
   "source": [
    "이 문제는 점을 맞는 위치로 추정하는 position regression 문제이기 때문에 **`loss`**와 **`metric`**을 각각 **mse** 와 **mae** 로 설정했습니다. **mae** 를 통해서 픽셀 위치가 평균적으로 얼마나 차이나는지 확인하면서 학습할 수 있습니다."
   ]
  },
  {
   "cell_type": "code",
   "execution_count": 7,
   "metadata": {},
   "outputs": [],
   "source": [
    "model.compile(\n",
    "  optimizer=tf.keras.optimizers.Adam(),\n",
    "  loss='mse',\n",
    "  metrics=['mae']\n",
    "  )"
   ]
  },
  {
   "cell_type": "markdown",
   "metadata": {},
   "source": [
    "학습률(learning rate)을 조절하는 함수도 제작해 줍니다. 저는 지수적으로 감소하게 만들었습니다."
   ]
  },
  {
   "cell_type": "code",
   "execution_count": 8,
   "metadata": {},
   "outputs": [],
   "source": [
    "def lr_step_decay(epoch):\n",
    "      init_lr = 0.0005 #self.flag.initial_learning_rate\n",
    "      lr_decay = 0.5 #self.flag.learning_rate_decay_factor\n",
    "      epoch_per_decay = 2 #self.flag.epoch_per_decay\n",
    "      lrate = init_lr * math.pow(lr_decay, math.floor((1+epoch)/epoch_per_decay))\n",
    "      return lrate"
   ]
  },
  {
   "cell_type": "markdown",
   "metadata": {},
   "source": [
    "학습을 진행합니다."
   ]
  },
  {
   "cell_type": "code",
   "execution_count": 9,
   "metadata": {},
   "outputs": [
    {
     "name": "stdout",
     "output_type": "stream",
     "text": [
      "23712 32 741\n",
      "Epoch 1/10\n"
     ]
    },
    {
     "name": "stderr",
     "output_type": "stream",
     "text": [
      "/home/ssac27/anaconda3/envs/aiffel/lib/python3.7/site-packages/ipykernel_launcher.py:14: RuntimeWarning: Mean of empty slice.\n",
      "  \n",
      "/home/ssac27/anaconda3/envs/aiffel/lib/python3.7/site-packages/ipykernel_launcher.py:15: RuntimeWarning: Mean of empty slice.\n",
      "  from ipykernel import kernelapp as app\n"
     ]
    },
    {
     "name": "stdout",
     "output_type": "stream",
     "text": [
      "741/741 [==============================] - 24s 32ms/step - loss: 0.0195 - mae: 0.0691\n",
      "Epoch 2/10\n",
      "741/741 [==============================] - 17s 23ms/step - loss: 0.0142 - mae: 0.0560\n",
      "Epoch 3/10\n",
      "741/741 [==============================] - 17s 23ms/step - loss: 0.0136 - mae: 0.0544\n",
      "Epoch 4/10\n",
      "741/741 [==============================] - 17s 22ms/step - loss: 0.0132 - mae: 0.0532\n",
      "Epoch 5/10\n",
      "741/741 [==============================] - 17s 22ms/step - loss: 0.0131 - mae: 0.0529\n",
      "Epoch 6/10\n",
      "741/741 [==============================] - 17s 22ms/step - loss: 0.0130 - mae: 0.0525\n",
      "Epoch 7/10\n",
      "741/741 [==============================] - 17s 22ms/step - loss: 0.0128 - mae: 0.0522\n",
      "Epoch 8/10\n",
      "741/741 [==============================] - 17s 22ms/step - loss: 0.0128 - mae: 0.0521\n",
      "Epoch 9/10\n",
      "741/741 [==============================] - 17s 23ms/step - loss: 0.0128 - mae: 0.0520\n",
      "Epoch 10/10\n",
      "741/741 [==============================] - 17s 22ms/step - loss: 0.0128 - mae: 0.0520\n"
     ]
    }
   ],
   "source": [
    "steps_per_epoch = image_data.samples//image_data.batch_size\n",
    "print (image_data.samples, image_data.batch_size, steps_per_epoch)\n",
    "# 23712 32 741 -> 데이터를 batch_size(32) 의 배수로 맞춰 준비해 주세요. \n",
    "\n",
    "assert(image_data.samples % image_data.batch_size == 0)  # 데이터가 32의 배수가 되지 않으면 model.fit()에서 에러가 발생합니다.\n",
    "\n",
    "learning_rate = LearningRateScheduler(lr_step_decay)\n",
    "\n",
    "history = model.fit(user_train_generator, epochs=10,\n",
    "                    steps_per_epoch=steps_per_epoch,\n",
    "                    callbacks = [learning_rate]\n",
    "                    )"
   ]
  },
  {
   "cell_type": "markdown",
   "metadata": {},
   "source": [
    "---"
   ]
  },
  {
   "cell_type": "markdown",
   "metadata": {},
   "source": [
    "## 키포인트 검출 딥러닝 모델 만들기 (3) 평가\n",
    "\n",
    "검증(validation)용 데이터는 섞어줄(shuffle) 필요가 없기 때문에 **`shuffle=False`** 옵션을 추가했습니다."
   ]
  },
  {
   "cell_type": "code",
   "execution_count": 10,
   "metadata": {},
   "outputs": [
    {
     "name": "stdout",
     "output_type": "stream",
     "text": [
      "Found 2632 images belonging to 1 classes.\n",
      "Found 2632 images belonging to 1 classes.\n"
     ]
    }
   ],
   "source": [
    "IMAGE_SHAPE = (80, 120)\n",
    "\n",
    "home_dir = os.getenv('HOME')+'/aiffel/coarse_to_fine'\n",
    "\n",
    "val_data_root = home_dir + '/data/val/input'\n",
    "val_label_root = home_dir + '/data/val/label'\n",
    "\n",
    "image_generator_val = tf.keras.preprocessing.image.ImageDataGenerator()\n",
    "label_generator_val = tf.keras.preprocessing.image.ImageDataGenerator()\n",
    "image_data_val = image_generator.flow_from_directory(str(val_data_root), class_mode=None, target_size=IMAGE_SHAPE, shuffle=False)\n",
    "label_data_val = label_generator.flow_from_directory(str(val_label_root), class_mode=None, target_size=IMAGE_SHAPE, shuffle=False)"
   ]
  },
  {
   "cell_type": "markdown",
   "metadata": {},
   "source": [
    "제너레이터를 만들고 **evaluate_generator()** 로 평가를 수행합니다."
   ]
  },
  {
   "cell_type": "code",
   "execution_count": 11,
   "metadata": {},
   "outputs": [
    {
     "name": "stdout",
     "output_type": "stream",
     "text": [
      "WARNING:tensorflow:From <ipython-input-11-65e239844661>:2: Model.evaluate_generator (from tensorflow.python.keras.engine.training) is deprecated and will be removed in a future version.\n",
      "Instructions for updating:\n",
      "Please use Model.evaluate, which supports generators.\n"
     ]
    },
    {
     "name": "stderr",
     "output_type": "stream",
     "text": [
      "WARNING:tensorflow:From <ipython-input-11-65e239844661>:2: Model.evaluate_generator (from tensorflow.python.keras.engine.training) is deprecated and will be removed in a future version.\n",
      "Instructions for updating:\n",
      "Please use Model.evaluate, which supports generators.\n",
      "/home/ssac27/anaconda3/envs/aiffel/lib/python3.7/site-packages/ipykernel_launcher.py:14: RuntimeWarning: Mean of empty slice.\n",
      "  \n",
      "/home/ssac27/anaconda3/envs/aiffel/lib/python3.7/site-packages/ipykernel_launcher.py:15: RuntimeWarning: Mean of empty slice.\n",
      "  from ipykernel import kernelapp as app\n"
     ]
    },
    {
     "name": "stdout",
     "output_type": "stream",
     "text": [
      "0.01301558967679739 0.05218283832073212\n"
     ]
    }
   ],
   "source": [
    "user_val_generator = user_generation(image_data_val, label_data_val)\n",
    "mse, mae = model.evaluate_generator(user_val_generator, image_data_val.n // 32)\n",
    "print(mse, mae)"
   ]
  },
  {
   "cell_type": "markdown",
   "metadata": {},
   "source": [
    "저는 평균 에러가 0.026 정도 나왔습니다. 우리가 찍은 점들은 120 픽셀을 기준으로 **`120\\*0.026 = 3.12`** 픽셀 정도 에러가 나는 것을 확인할 수 있습니다.\n",
    "\n",
    "실제로 이미지에 출력해보겠습니다."
   ]
  },
  {
   "cell_type": "code",
   "execution_count": 12,
   "metadata": {},
   "outputs": [
    {
     "data": {
      "text/plain": [
       "'/home/ssac27/aiffel/coarse_to_fine/data/val/input'"
      ]
     },
     "execution_count": 12,
     "metadata": {},
     "output_type": "execute_result"
    }
   ],
   "source": [
    "val_data_root"
   ]
  },
  {
   "cell_type": "code",
   "execution_count": 27,
   "metadata": {},
   "outputs": [
    {
     "data": {
      "text/plain": [
       "'/home/ssac27/aiffel/coarse_to_fine'"
      ]
     },
     "execution_count": 27,
     "metadata": {},
     "output_type": "execute_result"
    }
   ],
   "source": [
    "home_dir"
   ]
  },
  {
   "cell_type": "code",
   "execution_count": 35,
   "metadata": {},
   "outputs": [
    {
     "data": {
      "image/png": "[encoded data removed]",
      "text/plain": [
       "<Figure size 432x288 with 1 Axes>"
      ]
     },
     "metadata": {
      "needs_background": "light"
     },
     "output_type": "display_data"
    }
   ],
   "source": [
    "# img test\n",
    "import cv2\n",
    "import matplotlib.pyplot as plt\n",
    "\n",
    "img = cv2.imread(home_dir+'/data/eye.png')\n",
    "plt.imshow(cv2.cvtColor(img, cv2.COLOR_BGR2RGB))\n",
    "plt.show()"
   ]
  },
  {
   "cell_type": "markdown",
   "metadata": {},
   "source": [
    "입력을 위해 이미지를 120x80 으로 resize 한 후, 배치(batch)를 나타낼 수 있는 4차원 텐서로 변경합니다. 우선 이미지 1장에 대해서 출력을 하려 하니 지금은 배치 크기(batch size)를 1로 만들면 되겠죠?\n",
    "\n"
   ]
  },
  {
   "cell_type": "code",
   "execution_count": 36,
   "metadata": {},
   "outputs": [
    {
     "name": "stdout",
     "output_type": "stream",
     "text": [
      "[[[2.3486724e-03 4.5909462e-03]\n",
      "  [1.1997748e+02 7.9990662e+01]\n",
      "  [5.2574650e+01 2.4858391e+01]]]\n"
     ]
    }
   ],
   "source": [
    "np_inputs = np.expand_dims(cv2.resize(img, (120, 80)), axis=0)\n",
    "preds = model.predict(np_inputs/255., 1)\n",
    "\n",
    "repred = preds.reshape((1, 3, 2))\n",
    "repred[:,:,0] *= 120\n",
    "repred[:,:,1] *= 80\n",
    "print (repred)"
   ]
  },
  {
   "cell_type": "markdown",
   "metadata": {},
   "source": [
    "출력결과를 뽑아보면 아래와 같이 나옵니다. 1행부터 좌측, 우측, 중앙 좌표를 나타냅니다.\n",
    "\n",
    "결과를 이미지에 출력해 볼까요? **`pt`** 값은 120x80 으로 뽑았는데 우리가 사용하는 데이터 크기는 60x40입니다. 따라서 **`pt`** 에 **`0.5`** 를 곱해서 그림에 출력합니다.\n",
    "\n",
    ">(주의) **pt**값을 뽑을때의 이미지 크기 기준(120X80)은 고정이지만, 사용하는 데이터의 크기는 매번 달라질 것입니다. 보정치 설정에 유의해 주세요."
   ]
  },
  {
   "cell_type": "code",
   "execution_count": 37,
   "metadata": {},
   "outputs": [
    {
     "name": "stdout",
     "output_type": "stream",
     "text": [
      "[0. 0.]\n",
      "[120.  80.]\n",
      "[53. 25.]\n"
     ]
    },
    {
     "data": {
      "image/png": "[encoded data removed]",
      "text/plain": [
       "<Figure size 432x288 with 1 Axes>"
      ]
     },
     "metadata": {
      "needs_background": "light"
     },
     "output_type": "display_data"
    }
   ],
   "source": [
    "show = img.copy()\n",
    "for pt in repred[0]:\n",
    "    print (pt.round())\n",
    "    show = cv2.circle(show, tuple((pt*0.5).astype(int)), 3, (0,255,255), -1)\n",
    "\n",
    "plt.imshow(cv2.cvtColor(show, cv2.COLOR_BGR2RGB))\n",
    "plt.show()"
   ]
  },
  {
   "cell_type": "markdown",
   "metadata": {},
   "source": [
    "눈의 왼쪽은 정말 잘 찾은 것 같아요. 반면 눈 중심과 오른쪽 위치는 5픽셀 정도의 오차를 보이는 것 같습니다. 더 정확한 성능(적은 에러)를 원한다면 데이터를 추가로 넣어야 할 것 같습니다."
   ]
  },
  {
   "cell_type": "code",
   "execution_count": null,
   "metadata": {},
   "outputs": [],
   "source": []
  }
 ],
 "metadata": {
  "kernelspec": {
   "display_name": "Python 3",
   "language": "python",
   "name": "python3"
  },
  "language_info": {
   "codemirror_mode": {
    "name": "ipython",
    "version": 3
   },
   "file_extension": ".py",
   "mimetype": "text/x-python",
   "name": "python",
   "nbconvert_exporter": "python",
   "pygments_lexer": "ipython3",
   "version": "3.7.9"
  }
 },
 "nbformat": 4,
 "nbformat_minor": 4
}
